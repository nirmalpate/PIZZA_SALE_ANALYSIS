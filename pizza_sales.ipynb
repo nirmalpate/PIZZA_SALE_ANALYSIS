{
 "cells": [
  {
   "cell_type": "code",
   "execution_count": null,
   "id": "202cabc8-5df0-42c5-be53-d9d20c7044d5",
   "metadata": {},
   "outputs": [],
   "source": [
    "import pandas as pd\n",
    "import numpy as np\n",
    "\n",
    "df = pd.read_csv(\"C:/Users/ADM/Desktop/pizza_sales/order_details.csv\")\n",
    "\n",
    "df.info()\n",
    "df1 = pd.read_csv(\"C:/Users/ADM/Desktop/pizza_sales/orders.csv\", encoding='latin1')\n",
    "df2 = pd.read_csv(\"C:/Users/ADM/Desktop/pizza_sales/pizza_types.csv\", encoding='latin1')\n",
    "df3 = pd.read_csv(\"C:/Users/ADM/Desktop/pizza_sales/pizzas.csv\", encoding='latin1')\n",
    "\n",
    "df\n",
    "\n",
    "df3\n",
    "\n",
    "from sqlalchemy import create_engine\n",
    "db_user = 'root'\n",
    "db_password = '0000'\n",
    "db_host = 'localhost'\n",
    "db_port = '3306'\n",
    "db_name = 'pop'\n",
    "\n",
    "connection_string = f\"mysql+mysqlconnector://{db_user}:{db_password}@{db_host}:{db_port}/{db_name}\"\n",
    "\n",
    "engine = create_engine(connection_string)\n",
    "\n",
    "engine\n",
    "\n",
    "df.to_sql('order_details',engine, if_exists = 'replace', index = False)\n",
    "\n",
    "df1.to_sql('orders',engine, if_exists = 'replace', index = False)\n",
    "\n",
    "df2.to_sql('pizza_types',engine, if_exists = 'replace', index = False)\n",
    "\n",
    "df3.to_sql('pizzas',engine, if_exists = 'replace', index = False)\n",
    "\n"
   ]
  },
  {
   "cell_type": "code",
   "execution_count": null,
   "id": "5ffb6ae6-64e9-4644-8f5a-b9d3805ccfb2",
   "metadata": {},
   "outputs": [],
   "source": []
  },
  {
   "cell_type": "code",
   "execution_count": null,
   "id": "aa9470cd-a154-4a18-ba34-d795ba5d8b95",
   "metadata": {},
   "outputs": [],
   "source": []
  },
  {
   "cell_type": "code",
   "execution_count": null,
   "id": "7da312ba-26f5-44f9-aa9b-0ec3c6a6d851",
   "metadata": {},
   "outputs": [],
   "source": []
  },
  {
   "cell_type": "code",
   "execution_count": null,
   "id": "cadad1be-6c5a-432f-aac8-1f0ee8b62567",
   "metadata": {},
   "outputs": [],
   "source": []
  },
  {
   "cell_type": "code",
   "execution_count": null,
   "id": "755b98b4-4ddd-4010-9874-6da08ba0786f",
   "metadata": {},
   "outputs": [],
   "source": []
  },
  {
   "cell_type": "code",
   "execution_count": null,
   "id": "1954a96f-712a-4b49-a0cf-532088f3bb28",
   "metadata": {},
   "outputs": [],
   "source": []
  },
  {
   "cell_type": "code",
   "execution_count": null,
   "id": "707cd6f5-26e5-4ba4-a04f-9e9bcbc1fe36",
   "metadata": {},
   "outputs": [],
   "source": []
  },
  {
   "cell_type": "code",
   "execution_count": null,
   "id": "0c162ebe-1c59-49d6-8e8f-86566dc09551",
   "metadata": {},
   "outputs": [],
   "source": []
  },
  {
   "cell_type": "code",
   "execution_count": null,
   "id": "09f12952-b756-48e9-bec8-4d62cd263651",
   "metadata": {},
   "outputs": [],
   "source": []
  }
 ],
 "metadata": {
  "kernelspec": {
   "display_name": "Python 3 (ipykernel)",
   "language": "python",
   "name": "python3"
  },
  "language_info": {
   "codemirror_mode": {
    "name": "ipython",
    "version": 3
   },
   "file_extension": ".py",
   "mimetype": "text/x-python",
   "name": "python",
   "nbconvert_exporter": "python",
   "pygments_lexer": "ipython3",
   "version": "3.12.4"
  }
 },
 "nbformat": 4,
 "nbformat_minor": 5
}
